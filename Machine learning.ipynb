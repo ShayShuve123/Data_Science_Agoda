{
 "cells": [
  {
   "cell_type": "code",
   "execution_count": 2,
   "id": "d16d1315",
   "metadata": {},
   "outputs": [],
   "source": [
    "import pandas as pd\n",
    "from sklearn.linear_model import LogisticRegression\n",
    "from sklearn.model_selection import train_test_split\n",
    "from sklearn.preprocessing import StandardScaler\n",
    "from sklearn.linear_model import LinearRegression\n",
    "from sklearn.metrics import accuracy_score\n",
    "from sklearn.metrics import r2_score\n",
    "\n",
    "from sklearn.neighbors import KNeighborsClassifier\n",
    "from sklearn.preprocessing import StandardScaler"
   ]
  },
  {
   "cell_type": "code",
   "execution_count": 3,
   "id": "a75bc4ba",
   "metadata": {},
   "outputs": [],
   "source": [
    "df = pd.read_csv('Raw/Final_CSV.csv')"
   ]
  },
  {
   "cell_type": "code",
   "execution_count": 4,
   "id": "8c0fe552",
   "metadata": {},
   "outputs": [],
   "source": [
    "df = pd.read_csv('Raw/Final_CSV.csv')\n",
    "df.drop(columns=['Name', 'SpokenLanguages', 'Location'], inplace=True) # drop non-numeric column\n",
    "df.Origin = df.Origin.map({'Bangkok': 0,'Phuket': 1,'Koh Samui': 2,'Ko Pha-ngan': 3,'Ko Phi Phi': 4})\n"
   ]
  },
  {
   "cell_type": "markdown",
   "id": "76aad0f2",
   "metadata": {},
   "source": [
    "# kNN"
   ]
  },
  {
   "cell_type": "code",
   "execution_count": 20,
   "id": "6136379a",
   "metadata": {},
   "outputs": [],
   "source": [
    "# features split\n",
    "X = df.drop(columns=[\"Sparkling clean\"])\n",
    "y = df[\"Sparkling clean\"]"
   ]
  },
  {
   "cell_type": "code",
   "execution_count": 21,
   "id": "1d33a7de",
   "metadata": {},
   "outputs": [],
   "source": [
    "# train test split\n",
    "X_train, X_test, y_train, y_test = train_test_split(X, y, test_size=0.1, random_state=54)"
   ]
  },
  {
   "cell_type": "code",
   "execution_count": 22,
   "id": "1df6ea7a",
   "metadata": {},
   "outputs": [],
   "source": [
    "# scaling\n",
    "scaler = StandardScaler()\n",
    "X_train_scaled = scaler.fit_transform(X_train)\n",
    "X_test_scaled = scaler.transform(X_test)\n",
    "\n"
   ]
  },
  {
   "cell_type": "code",
   "execution_count": 23,
   "id": "3b2c3885",
   "metadata": {},
   "outputs": [
    {
     "name": "stderr",
     "output_type": "stream",
     "text": [
      "C:\\Users\\97254\\anaconda3\\lib\\site-packages\\sklearn\\neighbors\\_classification.py:228: FutureWarning: Unlike other reduction functions (e.g. `skew`, `kurtosis`), the default behavior of `mode` typically preserves the axis it acts along. In SciPy 1.11.0, this behavior will change: the default value of `keepdims` will become False, the `axis` over which the statistic is taken will be eliminated, and the value None will no longer be accepted. Set `keepdims` to True or False to avoid this warning.\n",
      "  mode, _ = stats.mode(_y[neigh_ind, k], axis=1)\n"
     ]
    }
   ],
   "source": [
    "knn = KNeighborsClassifier(n_neighbors=11)\n",
    "\n",
    "# Train the classifier with your scaled training data\n",
    "knn.fit(X_train_scaled, y_train)\n",
    "\n",
    "# Make predictions using the trained classifier and scaled test data\n",
    "y_pred = knn.predict(X_test_scaled)"
   ]
  },
  {
   "cell_type": "code",
   "execution_count": 24,
   "id": "881931ed",
   "metadata": {},
   "outputs": [
    {
     "data": {
      "text/plain": [
       "0.9024896265560166"
      ]
     },
     "execution_count": 24,
     "metadata": {},
     "output_type": "execute_result"
    }
   ],
   "source": [
    "# score\n",
    "accuracy_score(y_test, y_pred)"
   ]
  },
  {
   "cell_type": "markdown",
   "id": "260e124c",
   "metadata": {},
   "source": [
    "# LogisticRegression"
   ]
  },
  {
   "cell_type": "code",
   "execution_count": 15,
   "id": "83e54701",
   "metadata": {},
   "outputs": [],
   "source": [
    "# features split\n",
    "X = df.drop(columns=[\"Sparkling clean\"])\n",
    "y = df[\"Sparkling clean\"]"
   ]
  },
  {
   "cell_type": "code",
   "execution_count": 16,
   "id": "f3f4c59f",
   "metadata": {},
   "outputs": [],
   "source": [
    "# train test split\n",
    "X_train, X_test, y_train, y_test = train_test_split(X, y, test_size=0.1, random_state=54)"
   ]
  },
  {
   "cell_type": "code",
   "execution_count": 17,
   "id": "d774147a",
   "metadata": {},
   "outputs": [],
   "source": [
    "# scaling\n",
    "scaler = StandardScaler()\n",
    "X_train_scaled = scaler.fit_transform(X_train)\n",
    "X_test_scaled = scaler.transform(X_test)"
   ]
  },
  {
   "cell_type": "code",
   "execution_count": 18,
   "id": "558c4843",
   "metadata": {},
   "outputs": [],
   "source": [
    "# train & predict\n",
    "model = LogisticRegression(random_state=0).fit(X_train_scaled, y_train)\n",
    "y_pred = model.predict(X_test_scaled)"
   ]
  },
  {
   "cell_type": "code",
   "execution_count": 19,
   "id": "0d9372b0",
   "metadata": {},
   "outputs": [
    {
     "data": {
      "text/plain": [
       "0.9688796680497925"
      ]
     },
     "execution_count": 19,
     "metadata": {},
     "output_type": "execute_result"
    }
   ],
   "source": [
    "# score\n",
    "accuracy_score(y_test, y_pred)\n"
   ]
  },
  {
   "cell_type": "markdown",
   "id": "3a163ea7",
   "metadata": {},
   "source": [
    "# LInearRegression"
   ]
  },
  {
   "cell_type": "code",
   "execution_count": 49,
   "id": "732dfaef",
   "metadata": {},
   "outputs": [],
   "source": [
    "# features split\n",
    "X = df[['Real Guest Cleanlines Score', 'Real Guest Facilities Score', 'Real Guest Location Score',\n",
    "       'Real Guest Service Score', 'Real Guest Value for money Score', 'Price', 'Reviews', 'Booked today', 'Stars',\n",
    "       'Free WiFi In All Rooms', 'Coffee',\"ExcellentView\", 'Free WiFi In All Rooms']]\n",
    "y = df.Score"
   ]
  },
  {
   "cell_type": "code",
   "execution_count": 50,
   "id": "3ca19371",
   "metadata": {},
   "outputs": [],
   "source": [
    "# train test split\n",
    "X_train, X_test, y_train, y_test = train_test_split(X, y, test_size=0.2, random_state=98)\n",
    "\n"
   ]
  },
  {
   "cell_type": "code",
   "execution_count": 51,
   "id": "8ad67d17",
   "metadata": {},
   "outputs": [],
   "source": [
    "# scaling\n",
    "scaler = StandardScaler()\n",
    "X_train_scaled = scaler.fit_transform(X_train)\n",
    "X_test_scaled = scaler.transform(X_test)"
   ]
  },
  {
   "cell_type": "code",
   "execution_count": 52,
   "id": "9411522b",
   "metadata": {},
   "outputs": [],
   "source": [
    "# train & predict\n",
    "model = LinearRegression().fit(X_train_scaled, y_train)\n",
    "y_pred = model.predict(X_test_scaled)"
   ]
  },
  {
   "cell_type": "code",
   "execution_count": 53,
   "id": "33cdb42d",
   "metadata": {},
   "outputs": [
    {
     "data": {
      "text/plain": [
       "0.8072211782463998"
      ]
     },
     "execution_count": 53,
     "metadata": {},
     "output_type": "execute_result"
    }
   ],
   "source": [
    "# score\n",
    "r2_score(y_test, y_pred)"
   ]
  },
  {
   "cell_type": "code",
   "execution_count": 54,
   "id": "07868489",
   "metadata": {},
   "outputs": [
    {
     "data": {
      "text/plain": [
       "(4820, 13)"
      ]
     },
     "execution_count": 54,
     "metadata": {},
     "output_type": "execute_result"
    }
   ],
   "source": [
    "X.shape"
   ]
  },
  {
   "cell_type": "markdown",
   "id": "d1a55a60",
   "metadata": {},
   "source": [
    "# Draft"
   ]
  },
  {
   "cell_type": "code",
   "execution_count": 13,
   "id": "dd43f685",
   "metadata": {},
   "outputs": [
    {
     "name": "stdout",
     "output_type": "stream",
     "text": [
      "R^2 Score: 0.8103310686257644\n"
     ]
    }
   ],
   "source": [
    "#model.predict([[8,3,0,5,5,10,9,10,5,5,5,8]])"
   ]
  },
  {
   "cell_type": "code",
   "execution_count": null,
   "id": "04ae0d11",
   "metadata": {},
   "outputs": [],
   "source": []
  },
  {
   "cell_type": "code",
   "execution_count": null,
   "id": "74f64403",
   "metadata": {},
   "outputs": [],
   "source": [
    "ts_list = []\n",
    "rs_list = []\n",
    "r2_list = []\n",
    "for i in range(1, 10):\n",
    "    ts = i / 10\n",
    "    for rs in range(100):\n",
    "        X_train, X_test, y_train, y_test = train_test_split(X, y, test_size=ts, random_state=rs)\n",
    "        scaler = StandardScaler()\n",
    "        X_train_scaled = scaler.fit_transform(X_train)\n",
    "        X_test_scaled = scaler.transform(X_test)\n",
    "        model = LinearRegression().fit(X_train_scaled, y_train)\n",
    "        y_pred = model.predict(X_test_scaled)\n",
    "#         r2_score(y_test, y_pred)\n",
    "        ts_list.append(ts)\n",
    "        rs_list.append(rs)\n",
    "        r2_list.append(r2_score(y_test, y_pred))"
   ]
  },
  {
   "cell_type": "code",
   "execution_count": null,
   "id": "50d03659",
   "metadata": {},
   "outputs": [],
   "source": [
    "import plotly.graph_objects as go\n",
    "x = ts_list\n",
    "y = rs_list\n",
    "z = r2_list\n",
    "figC = go.Figure(data=[go.Scatter3d(x=x,\n",
    "                                   y=y,\n",
    "                                   z=z,\n",
    "                                   mode='markers',\n",
    "                                   marker={'size':12,\n",
    "                                           'color':z,\n",
    "                                           'colorscale':'Viridis',\n",
    "                                           'opacity':0.8})],\n",
    "                layout=go.Layout(margin={'l':0,\n",
    "                                         'r':0,\n",
    "                                         'b':0,\n",
    "                                         't':0}))\n",
    "figC.show()"
   ]
  },
  {
   "cell_type": "code",
   "execution_count": null,
   "id": "d94867a0",
   "metadata": {},
   "outputs": [],
   "source": []
  }
 ],
 "metadata": {
  "kernelspec": {
   "display_name": "Python 3 (ipykernel)",
   "language": "python",
   "name": "python3"
  },
  "language_info": {
   "codemirror_mode": {
    "name": "ipython",
    "version": 3
   },
   "file_extension": ".py",
   "mimetype": "text/x-python",
   "name": "python",
   "nbconvert_exporter": "python",
   "pygments_lexer": "ipython3",
   "version": "3.9.13"
  }
 },
 "nbformat": 4,
 "nbformat_minor": 5
}
